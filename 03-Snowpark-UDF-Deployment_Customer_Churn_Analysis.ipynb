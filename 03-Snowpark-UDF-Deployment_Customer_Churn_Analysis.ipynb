{
 "cells": [
  {
   "cell_type": "markdown",
   "id": "1763f772",
   "metadata": {},
   "source": [
    "# Customer churn analysis"
   ]
  },
  {
   "cell_type": "markdown",
   "id": "27ae3019",
   "metadata": {},
   "source": [
    "# Machine Learning Pipeline\n"
   ]
  },
  {
   "cell_type": "markdown",
   "id": "31924a1f",
   "metadata": {},
   "source": [
    "In the following notebooks, we will go through the implementation of each one of the steps in the Machine Learning Pipeline.\n",
    "\n",
    "We will discuss:\n",
    "\n",
    "1. Data Preparation and Analysis\n",
    "2. Feature Engineering\n",
    "3. Feature Selection\n",
    "4. Model Training\n",
    "5. Obtaining Predictions / Scoring\n"
   ]
  },
  {
   "cell_type": "code",
   "execution_count": 1,
   "id": "4cdf5f75",
   "metadata": {},
   "outputs": [],
   "source": [
    "from snowflake.snowpark.session import Session\n",
    "from snowflake.snowpark import functions as F\n",
    "from snowflake.snowpark.types import *\n",
    "import pandas as pd\n",
    "from sklearn import linear_model\n",
    "import matplotlib.pyplot as plt\n",
    "from snowflake.snowpark.functions import udf\n",
    "%matplotlib inline\n",
    "import datetime as dt\n",
    "import numpy as np\n",
    "import seaborn as sns\n",
    "\n",
    "# to divide train and test set\n",
    "from sklearn.model_selection import train_test_split\n",
    "\n",
    "# feature scaling\n",
    "from sklearn.preprocessing import MinMaxScaler\n",
    "\n",
    "# to save the trained scaler class\n",
    "import joblib"
   ]
  },
  {
   "cell_type": "code",
   "execution_count": 2,
   "id": "ff87f111",
   "metadata": {},
   "outputs": [
    {
     "name": "stdout",
     "output_type": "stream",
     "text": [
      "(1, 2, 0)\n",
      "[Row(CURRENT_WAREHOUSE()='SP_QS_WH', CURRENT_DATABASE()='SNOWPARK_QUICKSTART', CURRENT_SCHEMA()='TELCO')]\n"
     ]
    }
   ],
   "source": [
    "\n",
    "#Snowflake connection info\n",
    "from snowflake_conn_prop_Copy1 import snowflake_conn_prop\n",
    "\n",
    "#from config import snowflake_conn_prop\n",
    "from snowflake.snowpark import version\n",
    "print(version.VERSION)\n",
    "\n",
    "session = Session.builder.configs(snowflake_conn_prop).create()\n",
    "print(session.sql('select current_warehouse(), current_database(), current_schema()').collect())"
   ]
  },
  {
   "cell_type": "code",
   "execution_count": 3,
   "id": "9326dc01",
   "metadata": {},
   "outputs": [
    {
     "name": "stdout",
     "output_type": "stream",
     "text": [
      "CPU times: user 685 ms, sys: 53.1 ms, total: 738 ms\n",
      "Wall time: 2.12 s\n"
     ]
    }
   ],
   "source": [
    "%%time\n",
    "raw = session.table('TRAIN_DATASET').sample(n = 40000)\n",
    "data = raw.toPandas()"
   ]
  },
  {
   "cell_type": "code",
   "execution_count": 4,
   "id": "6b03a699",
   "metadata": {},
   "outputs": [
    {
     "data": {
      "text/plain": [
       "(40000, 22)"
      ]
     },
     "execution_count": 4,
     "metadata": {},
     "output_type": "execute_result"
    }
   ],
   "source": [
    "data.shape\n"
   ]
  },
  {
   "cell_type": "markdown",
   "id": "16283f55",
   "metadata": {},
   "source": [
    "Now we set up for deploying a predictor. This time we sample 40K values from the training dataset.\n"
   ]
  },
  {
   "cell_type": "markdown",
   "id": "8abe3b69",
   "metadata": {},
   "source": [
    "# Separate dataset into train and test"
   ]
  },
  {
   "cell_type": "markdown",
   "id": "450e5696",
   "metadata": {},
   "source": [
    "It is important to separate our data intro training and testing set.\n",
    "\n",
    "When we engineer features, some techniques learn parameters from data. It is important to learn these parameters only from the train set. This is to avoid over-fitting."
   ]
  },
  {
   "cell_type": "code",
   "execution_count": 5,
   "id": "2e70a49e",
   "metadata": {},
   "outputs": [
    {
     "data": {
      "text/plain": [
       "((32000, 20), (8000, 20))"
      ]
     },
     "execution_count": 5,
     "metadata": {},
     "output_type": "execute_result"
    }
   ],
   "source": [
    "# Let's separate into train and test set\n",
    "# Remember to set the seed (random_state for this sklearn function)\n",
    "\n",
    "# to divide train and test set\n",
    "from sklearn.model_selection import train_test_split\n",
    "\n",
    "X_train, X_test, y_train, y_test = train_test_split(\n",
    "    data.drop(columns=['CHURNVALUE','CUSTOMERID'], axis=1), # predictive variables\n",
    "    data['CHURNVALUE'], # target\n",
    "    test_size=0.2, # portion of dataset to allocate to test set\n",
    "    random_state=0, # we are setting the seed here\n",
    ")\n",
    "\n",
    "X_train.shape, X_test.shape"
   ]
  },
  {
   "cell_type": "markdown",
   "id": "7782ff54",
   "metadata": {},
   "source": [
    "## let's identify the different variables"
   ]
  },
  {
   "cell_type": "code",
   "execution_count": 6,
   "id": "f5696489",
   "metadata": {},
   "outputs": [
    {
     "name": "stdout",
     "output_type": "stream",
     "text": [
      "['GENDER', 'SENIORCITIZEN', 'PARTNER', 'DEPENDENTS', 'PHONESERVICE', 'MULTIPLELINES', 'INTERNETSERVICE', 'ONLINESECURITY', 'ONLINEBACKUP', 'DEVICEPROTECTION', 'TECHSUPPORT', 'STREAMINGTV', 'STREAMINGMOVIES', 'CONTRACT', 'PAPERLESSBILLING', 'PAYMENTMETHOD', 'TENUREMONTHS', 'MONTHLYCHARGES', 'TOTALCHARGES']\n"
     ]
    }
   ],
   "source": [
    "# Since we already cleaned up the data using snowpark, identifying variable is super easy\n",
    "\n",
    "# we will capture those of type *object*\n",
    "\n",
    "cat_vars = ['GENDER', 'SENIORCITIZEN', 'PARTNER', 'DEPENDENTS', 'PHONESERVICE', 'MULTIPLELINES', 'INTERNETSERVICE',\n",
    "            'ONLINESECURITY', 'ONLINEBACKUP', 'DEVICEPROTECTION', 'TECHSUPPORT', 'STREAMINGTV', 'STREAMINGMOVIES',\n",
    "            'CONTRACT', 'PAPERLESSBILLING', 'PAYMENTMETHOD']\n",
    "\n",
    "# we will capture those of type numerical from previous notebook\n",
    "num_vars = [ 'TENUREMONTHS', 'MONTHLYCHARGES', 'TOTALCHARGES']\n",
    "\n",
    "features = cat_vars + num_vars\n",
    "print(features)"
   ]
  },
  {
   "cell_type": "markdown",
   "id": "da91737f",
   "metadata": {},
   "source": [
    "## Numerical variable transformation\n"
   ]
  },
  {
   "cell_type": "markdown",
   "id": "53d636ad",
   "metadata": {},
   "source": [
    "In the previous notebook, we observed that the numerical variables are not normally distributed.\n",
    "\n",
    "We will transform with the MinMaxScaler in order to get a more Gaussian-like distribution. Use ordinal encoding for the categorical variables and check for nulls"
   ]
  },
  {
   "cell_type": "code",
   "execution_count": 7,
   "id": "267f54ad",
   "metadata": {},
   "outputs": [
    {
     "data": {
      "text/plain": [
       "[]"
      ]
     },
     "execution_count": 7,
     "metadata": {},
     "output_type": "execute_result"
    }
   ],
   "source": [
    "# check absence of na in the train set\n",
    "[var for var in X_train.columns if X_train[var].isnull().sum() > 0]\n",
    "\n",
    "# check absence of na in the test set\n",
    "[var for var in X_test.columns if X_test[var].isnull().sum() > 0]"
   ]
  },
  {
   "cell_type": "markdown",
   "id": "0e43cb47",
   "metadata": {},
   "source": [
    "Now we’re setting up for model fitting, on our way to deploying a predictor. Splitting the dataset 80/20 is standard stuff."
   ]
  },
  {
   "cell_type": "code",
   "execution_count": 8,
   "id": "9f91a641",
   "metadata": {},
   "outputs": [
    {
     "data": {
      "text/html": [
       "<style>#sk-container-id-1 {color: black;background-color: white;}#sk-container-id-1 pre{padding: 0;}#sk-container-id-1 div.sk-toggleable {background-color: white;}#sk-container-id-1 label.sk-toggleable__label {cursor: pointer;display: block;width: 100%;margin-bottom: 0;padding: 0.3em;box-sizing: border-box;text-align: center;}#sk-container-id-1 label.sk-toggleable__label-arrow:before {content: \"▸\";float: left;margin-right: 0.25em;color: #696969;}#sk-container-id-1 label.sk-toggleable__label-arrow:hover:before {color: black;}#sk-container-id-1 div.sk-estimator:hover label.sk-toggleable__label-arrow:before {color: black;}#sk-container-id-1 div.sk-toggleable__content {max-height: 0;max-width: 0;overflow: hidden;text-align: left;background-color: #f0f8ff;}#sk-container-id-1 div.sk-toggleable__content pre {margin: 0.2em;color: black;border-radius: 0.25em;background-color: #f0f8ff;}#sk-container-id-1 input.sk-toggleable__control:checked~div.sk-toggleable__content {max-height: 200px;max-width: 100%;overflow: auto;}#sk-container-id-1 input.sk-toggleable__control:checked~label.sk-toggleable__label-arrow:before {content: \"▾\";}#sk-container-id-1 div.sk-estimator input.sk-toggleable__control:checked~label.sk-toggleable__label {background-color: #d4ebff;}#sk-container-id-1 div.sk-label input.sk-toggleable__control:checked~label.sk-toggleable__label {background-color: #d4ebff;}#sk-container-id-1 input.sk-hidden--visually {border: 0;clip: rect(1px 1px 1px 1px);clip: rect(1px, 1px, 1px, 1px);height: 1px;margin: -1px;overflow: hidden;padding: 0;position: absolute;width: 1px;}#sk-container-id-1 div.sk-estimator {font-family: monospace;background-color: #f0f8ff;border: 1px dotted black;border-radius: 0.25em;box-sizing: border-box;margin-bottom: 0.5em;}#sk-container-id-1 div.sk-estimator:hover {background-color: #d4ebff;}#sk-container-id-1 div.sk-parallel-item::after {content: \"\";width: 100%;border-bottom: 1px solid gray;flex-grow: 1;}#sk-container-id-1 div.sk-label:hover label.sk-toggleable__label {background-color: #d4ebff;}#sk-container-id-1 div.sk-serial::before {content: \"\";position: absolute;border-left: 1px solid gray;box-sizing: border-box;top: 0;bottom: 0;left: 50%;z-index: 0;}#sk-container-id-1 div.sk-serial {display: flex;flex-direction: column;align-items: center;background-color: white;padding-right: 0.2em;padding-left: 0.2em;position: relative;}#sk-container-id-1 div.sk-item {position: relative;z-index: 1;}#sk-container-id-1 div.sk-parallel {display: flex;align-items: stretch;justify-content: center;background-color: white;position: relative;}#sk-container-id-1 div.sk-item::before, #sk-container-id-1 div.sk-parallel-item::before {content: \"\";position: absolute;border-left: 1px solid gray;box-sizing: border-box;top: 0;bottom: 0;left: 50%;z-index: -1;}#sk-container-id-1 div.sk-parallel-item {display: flex;flex-direction: column;z-index: 1;position: relative;background-color: white;}#sk-container-id-1 div.sk-parallel-item:first-child::after {align-self: flex-end;width: 50%;}#sk-container-id-1 div.sk-parallel-item:last-child::after {align-self: flex-start;width: 50%;}#sk-container-id-1 div.sk-parallel-item:only-child::after {width: 0;}#sk-container-id-1 div.sk-dashed-wrapped {border: 1px dashed gray;margin: 0 0.4em 0.5em 0.4em;box-sizing: border-box;padding-bottom: 0.4em;background-color: white;}#sk-container-id-1 div.sk-label label {font-family: monospace;font-weight: bold;display: inline-block;line-height: 1.2em;}#sk-container-id-1 div.sk-label-container {text-align: center;}#sk-container-id-1 div.sk-container {/* jupyter's `normalize.less` sets `[hidden] { display: none; }` but bootstrap.min.css set `[hidden] { display: none !important; }` so we also need the `!important` here to be able to override the default hidden behavior on the sphinx rendered scikit-learn.org. See: https://github.com/scikit-learn/scikit-learn/issues/21755 */display: inline-block !important;position: relative;}#sk-container-id-1 div.sk-text-repr-fallback {display: none;}</style><div id=\"sk-container-id-1\" class=\"sk-top-container\"><div class=\"sk-text-repr-fallback\"><pre>Pipeline(steps=[(&#x27;pipeline-1&#x27;,\n",
       "                 Pipeline(steps=[(&#x27;functiontransformer&#x27;,\n",
       "                                  FunctionTransformer(func=&lt;function &lt;lambda&gt; at 0x7fde21e0ea60&gt;)),\n",
       "                                 (&#x27;ordinalencoder&#x27;,\n",
       "                                  OrdinalEncoder(handle_unknown=&#x27;use_encoded_value&#x27;,\n",
       "                                                 unknown_value=-1))])),\n",
       "                (&#x27;pipeline-2&#x27;,\n",
       "                 Pipeline(steps=[(&#x27;simpleimputer&#x27;,\n",
       "                                  SimpleImputer(fill_value=0,\n",
       "                                                strategy=&#x27;constant&#x27;)),\n",
       "                                 (&#x27;minmaxscaler&#x27;, MinMaxScaler())])),\n",
       "                (&#x27;pipeline-3&#x27;,\n",
       "                 Pipeline(steps=[(&#x27;randomforestclassifier&#x27;,\n",
       "                                  RandomForestClassifier(n_jobs=-1,\n",
       "                                                         random_state=0))]))])</pre><b>In a Jupyter environment, please rerun this cell to show the HTML representation or trust the notebook. <br />On GitHub, the HTML representation is unable to render, please try loading this page with nbviewer.org.</b></div><div class=\"sk-container\" hidden><div class=\"sk-item sk-dashed-wrapped\"><div class=\"sk-label-container\"><div class=\"sk-label sk-toggleable\"><input class=\"sk-toggleable__control sk-hidden--visually\" id=\"sk-estimator-id-1\" type=\"checkbox\" ><label for=\"sk-estimator-id-1\" class=\"sk-toggleable__label sk-toggleable__label-arrow\">Pipeline</label><div class=\"sk-toggleable__content\"><pre>Pipeline(steps=[(&#x27;pipeline-1&#x27;,\n",
       "                 Pipeline(steps=[(&#x27;functiontransformer&#x27;,\n",
       "                                  FunctionTransformer(func=&lt;function &lt;lambda&gt; at 0x7fde21e0ea60&gt;)),\n",
       "                                 (&#x27;ordinalencoder&#x27;,\n",
       "                                  OrdinalEncoder(handle_unknown=&#x27;use_encoded_value&#x27;,\n",
       "                                                 unknown_value=-1))])),\n",
       "                (&#x27;pipeline-2&#x27;,\n",
       "                 Pipeline(steps=[(&#x27;simpleimputer&#x27;,\n",
       "                                  SimpleImputer(fill_value=0,\n",
       "                                                strategy=&#x27;constant&#x27;)),\n",
       "                                 (&#x27;minmaxscaler&#x27;, MinMaxScaler())])),\n",
       "                (&#x27;pipeline-3&#x27;,\n",
       "                 Pipeline(steps=[(&#x27;randomforestclassifier&#x27;,\n",
       "                                  RandomForestClassifier(n_jobs=-1,\n",
       "                                                         random_state=0))]))])</pre></div></div></div><div class=\"sk-serial\"><div class=\"sk-item\"><div class=\"sk-label-container\"><div class=\"sk-label sk-toggleable\"><input class=\"sk-toggleable__control sk-hidden--visually\" id=\"sk-estimator-id-2\" type=\"checkbox\" ><label for=\"sk-estimator-id-2\" class=\"sk-toggleable__label sk-toggleable__label-arrow\">pipeline-1: Pipeline</label><div class=\"sk-toggleable__content\"><pre>Pipeline(steps=[(&#x27;functiontransformer&#x27;,\n",
       "                 FunctionTransformer(func=&lt;function &lt;lambda&gt; at 0x7fde21e0ea60&gt;)),\n",
       "                (&#x27;ordinalencoder&#x27;,\n",
       "                 OrdinalEncoder(handle_unknown=&#x27;use_encoded_value&#x27;,\n",
       "                                unknown_value=-1))])</pre></div></div></div><div class=\"sk-serial\"><div class=\"sk-item\"><div class=\"sk-estimator sk-toggleable\"><input class=\"sk-toggleable__control sk-hidden--visually\" id=\"sk-estimator-id-3\" type=\"checkbox\" ><label for=\"sk-estimator-id-3\" class=\"sk-toggleable__label sk-toggleable__label-arrow\">FunctionTransformer</label><div class=\"sk-toggleable__content\"><pre>FunctionTransformer(func=&lt;function &lt;lambda&gt; at 0x7fde21e0ea60&gt;)</pre></div></div></div><div class=\"sk-item\"><div class=\"sk-estimator sk-toggleable\"><input class=\"sk-toggleable__control sk-hidden--visually\" id=\"sk-estimator-id-4\" type=\"checkbox\" ><label for=\"sk-estimator-id-4\" class=\"sk-toggleable__label sk-toggleable__label-arrow\">OrdinalEncoder</label><div class=\"sk-toggleable__content\"><pre>OrdinalEncoder(handle_unknown=&#x27;use_encoded_value&#x27;, unknown_value=-1)</pre></div></div></div></div></div><div class=\"sk-item\"><div class=\"sk-label-container\"><div class=\"sk-label sk-toggleable\"><input class=\"sk-toggleable__control sk-hidden--visually\" id=\"sk-estimator-id-5\" type=\"checkbox\" ><label for=\"sk-estimator-id-5\" class=\"sk-toggleable__label sk-toggleable__label-arrow\">pipeline-2: Pipeline</label><div class=\"sk-toggleable__content\"><pre>Pipeline(steps=[(&#x27;simpleimputer&#x27;,\n",
       "                 SimpleImputer(fill_value=0, strategy=&#x27;constant&#x27;)),\n",
       "                (&#x27;minmaxscaler&#x27;, MinMaxScaler())])</pre></div></div></div><div class=\"sk-serial\"><div class=\"sk-item\"><div class=\"sk-estimator sk-toggleable\"><input class=\"sk-toggleable__control sk-hidden--visually\" id=\"sk-estimator-id-6\" type=\"checkbox\" ><label for=\"sk-estimator-id-6\" class=\"sk-toggleable__label sk-toggleable__label-arrow\">SimpleImputer</label><div class=\"sk-toggleable__content\"><pre>SimpleImputer(fill_value=0, strategy=&#x27;constant&#x27;)</pre></div></div></div><div class=\"sk-item\"><div class=\"sk-estimator sk-toggleable\"><input class=\"sk-toggleable__control sk-hidden--visually\" id=\"sk-estimator-id-7\" type=\"checkbox\" ><label for=\"sk-estimator-id-7\" class=\"sk-toggleable__label sk-toggleable__label-arrow\">MinMaxScaler</label><div class=\"sk-toggleable__content\"><pre>MinMaxScaler()</pre></div></div></div></div></div><div class=\"sk-item\"><div class=\"sk-label-container\"><div class=\"sk-label sk-toggleable\"><input class=\"sk-toggleable__control sk-hidden--visually\" id=\"sk-estimator-id-8\" type=\"checkbox\" ><label for=\"sk-estimator-id-8\" class=\"sk-toggleable__label sk-toggleable__label-arrow\">pipeline-3: Pipeline</label><div class=\"sk-toggleable__content\"><pre>Pipeline(steps=[(&#x27;randomforestclassifier&#x27;,\n",
       "                 RandomForestClassifier(n_jobs=-1, random_state=0))])</pre></div></div></div><div class=\"sk-serial\"><div class=\"sk-item\"><div class=\"sk-estimator sk-toggleable\"><input class=\"sk-toggleable__control sk-hidden--visually\" id=\"sk-estimator-id-9\" type=\"checkbox\" ><label for=\"sk-estimator-id-9\" class=\"sk-toggleable__label sk-toggleable__label-arrow\">RandomForestClassifier</label><div class=\"sk-toggleable__content\"><pre>RandomForestClassifier(n_jobs=-1, random_state=0)</pre></div></div></div></div></div></div></div></div></div>"
      ],
      "text/plain": [
       "Pipeline(steps=[('pipeline-1',\n",
       "                 Pipeline(steps=[('functiontransformer',\n",
       "                                  FunctionTransformer(func=<function <lambda> at 0x7fde21e0ea60>)),\n",
       "                                 ('ordinalencoder',\n",
       "                                  OrdinalEncoder(handle_unknown='use_encoded_value',\n",
       "                                                 unknown_value=-1))])),\n",
       "                ('pipeline-2',\n",
       "                 Pipeline(steps=[('simpleimputer',\n",
       "                                  SimpleImputer(fill_value=0,\n",
       "                                                strategy='constant')),\n",
       "                                 ('minmaxscaler', MinMaxScaler())])),\n",
       "                ('pipeline-3',\n",
       "                 Pipeline(steps=[('randomforestclassifier',\n",
       "                                  RandomForestClassifier(n_jobs=-1,\n",
       "                                                         random_state=0))]))])"
      ]
     },
     "execution_count": 8,
     "metadata": {},
     "output_type": "execute_result"
    }
   ],
   "source": [
    "# setup pipeline\n",
    "\n",
    "#transformations\n",
    "from sklearn.preprocessing import OrdinalEncoder\n",
    "from sklearn.impute import SimpleImputer\n",
    "from sklearn.preprocessing import MinMaxScaler\n",
    "from sklearn.preprocessing import FunctionTransformer\n",
    "\n",
    "#Classifier\n",
    "from sklearn.ensemble import RandomForestClassifier\n",
    "\n",
    "#Pipeline\n",
    "from sklearn.pipeline import make_pipeline\n",
    "from sklearn.model_selection import train_test_split\n",
    "\n",
    "#Model Accuracy\n",
    "from sklearn.metrics import balanced_accuracy_score\n",
    "\n",
    "# Model Pipeline\n",
    "ord_pipe = make_pipeline(\n",
    "    FunctionTransformer(lambda x: x.astype(str)) ,\n",
    "    OrdinalEncoder(handle_unknown='use_encoded_value', unknown_value=-1)\n",
    "    )\n",
    "\n",
    "num_pipe = make_pipeline(\n",
    "    SimpleImputer(missing_values=np.nan, strategy='constant', fill_value=0),\n",
    "    MinMaxScaler()\n",
    "    )\n",
    "\n",
    "clf = make_pipeline(RandomForestClassifier(random_state=0, n_jobs=-1))\n",
    "\n",
    "model = make_pipeline(ord_pipe, num_pipe, clf)\n",
    "\n",
    "# fit the model\n",
    "model.fit(X_train, y_train)"
   ]
  },
  {
   "cell_type": "markdown",
   "id": "eae82219",
   "metadata": {},
   "source": [
    "This time we’ll use a Random Forest classifier and set up a Scikit-learn pipeline that handles the data engineering as well as doing the fitting.\n"
   ]
  },
  {
   "cell_type": "markdown",
   "id": "dd853c0b",
   "metadata": {},
   "source": [
    "### Check Accuracy of our model on test dataset"
   ]
  },
  {
   "cell_type": "code",
   "execution_count": 9,
   "id": "24c5e047",
   "metadata": {},
   "outputs": [
    {
     "name": "stdout",
     "output_type": "stream",
     "text": [
      "Model testing completed.\n",
      "   - Model Balanced Accuracy: 99.62%\n"
     ]
    }
   ],
   "source": [
    "y_pred = model.predict_proba(X_test)[:,1]\n",
    "#predict_proba() : For classification problems, returns the probability that a new observation has each categorical label. \n",
    "predictions = [round(value) for value in y_pred]\n",
    "balanced_accuracy = balanced_accuracy_score(y_test, predictions)\n",
    "print(\"Model testing completed.\\n   - Model Balanced Accuracy: %.2f%%\" % (balanced_accuracy * 100.0))"
   ]
  },
  {
   "cell_type": "markdown",
   "id": "d0e66339",
   "metadata": {},
   "source": [
    "### Confusion Matrix"
   ]
  },
  {
   "cell_type": "code",
   "execution_count": 10,
   "id": "582c82af",
   "metadata": {},
   "outputs": [
    {
     "name": "stdout",
     "output_type": "stream",
     "text": [
      "True Positive(TP)  =  2606\n",
      "False Positive(FP) =  12\n",
      "True Negative(TN)  =  5368\n",
      "False Negative(FN) =  14\n",
      "Accuracy of the classification = 0.997\n"
     ]
    }
   ],
   "source": [
    "#Confusion Matrix\n",
    "\n",
    "from sklearn.metrics import confusion_matrix\n",
    "\n",
    "cm = confusion_matrix(y_test, predictions)\n",
    "\n",
    "TN, FP, FN, TP = confusion_matrix(y_test, predictions).ravel()\n",
    "\n",
    "print('True Positive(TP)  = ', TP)\n",
    "print('False Positive(FP) = ', FP)\n",
    "print('True Negative(TN)  = ', TN)\n",
    "print('False Negative(FN) = ', FN)\n",
    "\n",
    "accuracy =  (TP+TN) /(TP+FP+TN+FN)\n",
    "\n",
    "print('Accuracy of the classification = {:0.3f}'.format(accuracy))"
   ]
  },
  {
   "cell_type": "markdown",
   "id": "24e3c9e0",
   "metadata": {},
   "source": [
    "### Check for important features\n"
   ]
  },
  {
   "cell_type": "code",
   "execution_count": 11,
   "id": "0ac2e1b6",
   "metadata": {},
   "outputs": [
    {
     "data": {
      "text/plain": [
       "Text(0.5, 0, 'Feature Importance')"
      ]
     },
     "execution_count": 11,
     "metadata": {},
     "output_type": "execute_result"
    },
    {
     "data": {
      "image/png": "[encoded data removed]",
      "text/plain": [
       "<Figure size 640x480 with 1 Axes>"
      ]
     },
     "metadata": {},
     "output_type": "display_data"
    }
   ],
   "source": [
    "# Feature importance\n",
    "from sklearn.inspection import permutation_importance\n",
    "perm_importance = permutation_importance(model, X_test, y_test)\n",
    "sorted_idx = perm_importance.importances_mean.argsort()\n",
    "plt.barh(np.array(X_test.columns)[sorted_idx], perm_importance.importances_mean[sorted_idx])\n",
    "plt.xlabel(\"Feature Importance\")"
   ]
  },
  {
   "cell_type": "markdown",
   "id": "d97219de",
   "metadata": {},
   "source": [
    " Let’s see how we did. The accuracy is 99.5%, which isn’t shabby, and the confusion matrix shows relatively few false predictions. The most important feature is whether there is a contract, followed by tenure length and monthly charges."
   ]
  },
  {
   "cell_type": "markdown",
   "id": "4dfe59d6",
   "metadata": {},
   "source": [
    "### Prepare for model deployment in Snowflake using Snowpark Python UDF\n"
   ]
  },
  {
   "cell_type": "code",
   "execution_count": 12,
   "id": "ca11d975",
   "metadata": {},
   "outputs": [
    {
     "name": "stdout",
     "output_type": "stream",
     "text": [
      "[Row(status='MODELSTAGE already exists, statement succeeded.')]\n"
     ]
    }
   ],
   "source": [
    "#Let's first create a stage to store the artifacts\n",
    "print(session.sql('create stage if not exists MODELSTAGE').collect())"
   ]
  },
  {
   "cell_type": "markdown",
   "id": "3c4f7731",
   "metadata": {},
   "source": [
    "### We will define a snopark python UDF to help us score the live data using the model that we built earlier.\n"
   ]
  },
  {
   "cell_type": "markdown",
   "id": "bf1e0816",
   "metadata": {},
   "source": [
    "Since we have fitted the model with the scikit learn pipeline, our UDF will do the transformations and also score the new data\n",
    "\n"
   ]
  },
  {
   "cell_type": "code",
   "execution_count": 13,
   "id": "27b61d9e",
   "metadata": {},
   "outputs": [
    {
     "name": "stderr",
     "output_type": "stream",
     "text": [
      "The version of package scikit-learn in the local environment is 1.2.2, which does not fit the criteria for the requirement scikit-learn==1.0.2. Your UDF might not work when the package version is different between the server and your local environment\n"
     ]
    },
    {
     "name": "stdout",
     "output_type": "stream",
     "text": [
      "CPU times: user 1.03 s, sys: 131 ms, total: 1.17 s\n",
      "Wall time: 28.4 s\n"
     ]
    }
   ],
   "source": [
    "%%time\n",
    "\n",
    "features = list(X_train.columns)\n",
    "\n",
    "session.add_packages(\"scikit-learn==1.0.2\", \"pandas\", \"numpy\")\n",
    "\n",
    "@udf(name='predict_churn',is_permanent = True, stage_location = '@MODELSTAGE', replace=True)\n",
    "def predict_churn(args: list) -> float:\n",
    "    row = pd.DataFrame([args], columns=features)\n",
    "    return model.predict(row)"
   ]
  },
  {
   "cell_type": "code",
   "execution_count": 14,
   "id": "1755863e",
   "metadata": {},
   "outputs": [
    {
     "data": {
      "text/plain": [
       "['COUNT',\n",
       " 'GENDER',\n",
       " 'SENIORCITIZEN',\n",
       " 'PARTNER',\n",
       " 'DEPENDENTS',\n",
       " 'TENUREMONTHS',\n",
       " 'PHONESERVICE',\n",
       " 'MULTIPLELINES',\n",
       " 'INTERNETSERVICE',\n",
       " 'ONLINESECURITY',\n",
       " 'ONLINEBACKUP',\n",
       " 'DEVICEPROTECTION',\n",
       " 'TECHSUPPORT',\n",
       " 'STREAMINGTV',\n",
       " 'STREAMINGMOVIES',\n",
       " 'CONTRACT',\n",
       " 'PAPERLESSBILLING',\n",
       " 'PAYMENTMETHOD',\n",
       " 'MONTHLYCHARGES',\n",
       " 'TOTALCHARGES']"
      ]
     },
     "execution_count": 14,
     "metadata": {},
     "output_type": "execute_result"
    }
   ],
   "source": [
    "features"
   ]
  },
  {
   "cell_type": "code",
   "execution_count": 15,
   "id": "13e8891b",
   "metadata": {},
   "outputs": [],
   "source": [
    "new_df = session.table('TRAIN_DATASET').sample(n = 400)"
   ]
  },
  {
   "cell_type": "code",
   "execution_count": 16,
   "id": "d177625f",
   "metadata": {},
   "outputs": [
    {
     "name": "stdout",
     "output_type": "stream",
     "text": [
      "CPU times: user 16.5 ms, sys: 3.11 ms, total: 19.6 ms\n",
      "Wall time: 14.7 s\n"
     ]
    }
   ],
   "source": [
    "%%time\n",
    "new_df.select(new_df.CUSTOMERID,new_df.CHURNVALUE, \\\n",
    "              F.call_udf(\"predict_churn\", F.array_construct(*features)).alias('PREDICTED_CHURN')) \\\n",
    "        .write.mode('overwrite').saveAsTable('churn_detection')"
   ]
  },
  {
   "cell_type": "code",
   "execution_count": 17,
   "id": "7b23e7bc",
   "metadata": {},
   "outputs": [
    {
     "data": {
      "text/html": [
       "<div>\n",
       "<style scoped>\n",
       "    .dataframe tbody tr th:only-of-type {\n",
       "        vertical-align: middle;\n",
       "    }\n",
       "\n",
       "    .dataframe tbody tr th {\n",
       "        vertical-align: top;\n",
       "    }\n",
       "\n",
       "    .dataframe thead th {\n",
       "        text-align: right;\n",
       "    }\n",
       "</style>\n",
       "<table border=\"1\" class=\"dataframe\">\n",
       "  <thead>\n",
       "    <tr style=\"text-align: right;\">\n",
       "      <th></th>\n",
       "      <th>CUSTOMERID</th>\n",
       "      <th>CHURNVALUE</th>\n",
       "      <th>PREDICTED_CHURN</th>\n",
       "    </tr>\n",
       "  </thead>\n",
       "  <tbody>\n",
       "    <tr>\n",
       "      <th>0</th>\n",
       "      <td>3162-vnkDc</td>\n",
       "      <td>0.0</td>\n",
       "      <td>0.0</td>\n",
       "    </tr>\n",
       "    <tr>\n",
       "      <th>1</th>\n",
       "      <td>3808-Q219k</td>\n",
       "      <td>1.0</td>\n",
       "      <td>1.0</td>\n",
       "    </tr>\n",
       "    <tr>\n",
       "      <th>2</th>\n",
       "      <td>9890-8w0Yx</td>\n",
       "      <td>0.0</td>\n",
       "      <td>0.0</td>\n",
       "    </tr>\n",
       "    <tr>\n",
       "      <th>3</th>\n",
       "      <td>6175-Rykm5</td>\n",
       "      <td>0.0</td>\n",
       "      <td>0.0</td>\n",
       "    </tr>\n",
       "    <tr>\n",
       "      <th>4</th>\n",
       "      <td>9820-pfyOo</td>\n",
       "      <td>0.0</td>\n",
       "      <td>0.0</td>\n",
       "    </tr>\n",
       "    <tr>\n",
       "      <th>...</th>\n",
       "      <td>...</td>\n",
       "      <td>...</td>\n",
       "      <td>...</td>\n",
       "    </tr>\n",
       "    <tr>\n",
       "      <th>395</th>\n",
       "      <td>5915-NGspN</td>\n",
       "      <td>0.0</td>\n",
       "      <td>0.0</td>\n",
       "    </tr>\n",
       "    <tr>\n",
       "      <th>396</th>\n",
       "      <td>1915-CKWq3</td>\n",
       "      <td>1.0</td>\n",
       "      <td>1.0</td>\n",
       "    </tr>\n",
       "    <tr>\n",
       "      <th>397</th>\n",
       "      <td>7120-QVwh7</td>\n",
       "      <td>1.0</td>\n",
       "      <td>1.0</td>\n",
       "    </tr>\n",
       "    <tr>\n",
       "      <th>398</th>\n",
       "      <td>1733-jBDuv</td>\n",
       "      <td>0.0</td>\n",
       "      <td>0.0</td>\n",
       "    </tr>\n",
       "    <tr>\n",
       "      <th>399</th>\n",
       "      <td>2699-swzBH</td>\n",
       "      <td>0.0</td>\n",
       "      <td>0.0</td>\n",
       "    </tr>\n",
       "  </tbody>\n",
       "</table>\n",
       "<p>400 rows × 3 columns</p>\n",
       "</div>"
      ],
      "text/plain": [
       "     CUSTOMERID  CHURNVALUE  PREDICTED_CHURN\n",
       "0    3162-vnkDc         0.0              0.0\n",
       "1    3808-Q219k         1.0              1.0\n",
       "2    9890-8w0Yx         0.0              0.0\n",
       "3    6175-Rykm5         0.0              0.0\n",
       "4    9820-pfyOo         0.0              0.0\n",
       "..          ...         ...              ...\n",
       "395  5915-NGspN         0.0              0.0\n",
       "396  1915-CKWq3         1.0              1.0\n",
       "397  7120-QVwh7         1.0              1.0\n",
       "398  1733-jBDuv         0.0              0.0\n",
       "399  2699-swzBH         0.0              0.0\n",
       "\n",
       "[400 rows x 3 columns]"
      ]
     },
     "execution_count": 17,
     "metadata": {},
     "output_type": "execute_result"
    }
   ],
   "source": [
    "session.table('churn_detection').toPandas()\n"
   ]
  },
  {
   "cell_type": "markdown",
   "id": "7d6e5afc",
   "metadata": {},
   "source": [
    "Now we define a UDF to predict churn and deploy it into the data warehouse.\n"
   ]
  },
  {
   "cell_type": "markdown",
   "id": "4d86f205",
   "metadata": {},
   "source": [
    "### Different Syntax to register the prediction UDF for deployment\n"
   ]
  },
  {
   "cell_type": "code",
   "execution_count": 18,
   "id": "7adafad3",
   "metadata": {},
   "outputs": [
    {
     "name": "stderr",
     "output_type": "stream",
     "text": [
      "The version of package scikit-learn in the local environment is 1.2.2, which does not fit the criteria for the requirement scikit-learn==1.0.2. Your UDF might not work when the package version is different between the server and your local environment\n"
     ]
    },
    {
     "name": "stdout",
     "output_type": "stream",
     "text": [
      "CPU times: user 992 ms, sys: 86.2 ms, total: 1.08 s\n",
      "Wall time: 21.9 s\n"
     ]
    }
   ],
   "source": [
    "%%time\n",
    "session.add_packages(\"scikit-learn==1.0.2\", \"pandas\", \"numpy\")\n",
    "features = list(X_train.columns)\n",
    "predict_churn_model = session.udf.register(lambda *args: \n",
    "                                    model.predict(pd.DataFrame(args, columns=features)),\n",
    "                                    name=\"predict_churn_model\",\n",
    "                                    stage_location=\"@MODELSTAGE\",\n",
    "                                    return_type=FloatType(),\n",
    "                                    is_permanent=True,\n",
    "                                    replace=True,\n",
    "                                    input_types=[ArrayType()])"
   ]
  },
  {
   "cell_type": "code",
   "execution_count": 19,
   "id": "af5c8c78",
   "metadata": {},
   "outputs": [
    {
     "data": {
      "text/plain": [
       "<snowflake.snowpark.udf.UserDefinedFunction at 0x7fde0065e0a0>"
      ]
     },
     "execution_count": 19,
     "metadata": {},
     "output_type": "execute_result"
    }
   ],
   "source": [
    "predict_churn_model"
   ]
  },
  {
   "cell_type": "markdown",
   "id": "2911f2ca",
   "metadata": {},
   "source": [
    "### if we want to do the prediction using SQL\n"
   ]
  },
  {
   "cell_type": "code",
   "execution_count": 20,
   "id": "c16a5f63",
   "metadata": {},
   "outputs": [
    {
     "name": "stdout",
     "output_type": "stream",
     "text": [
      "----------------------------------------------------\n",
      "|\"CUSTOMERID\"  |\"CHURNVALUE\"  |\"CHURN_PREDICTION\"  |\n",
      "----------------------------------------------------\n",
      "|5798-GaAi8    |0.0           |1.0                 |\n",
      "|5782-L02iv    |1.0           |0.0                 |\n",
      "|9836-4yzBc    |0.0           |0.0                 |\n",
      "|4617-e8XZg    |1.0           |1.0                 |\n",
      "|3885-C7sYa    |1.0           |0.0                 |\n",
      "|4239-3qNWu    |0.0           |1.0                 |\n",
      "|2802-01VmU    |0.0           |0.0                 |\n",
      "|2019-R0sgA    |0.0           |0.0                 |\n",
      "|3888-aWMj9    |0.0           |0.0                 |\n",
      "|6297-wWONT    |0.0           |0.0                 |\n",
      "----------------------------------------------------\n",
      "\n",
      "CPU times: user 11.7 ms, sys: 3.01 ms, total: 14.7 ms\n",
      "Wall time: 4.09 s\n"
     ]
    }
   ],
   "source": [
    "%%time\n",
    "session.sql(' select customerid,churnvalue, \\\n",
    "            predict_churn(ARRAY_CONSTRUCT( \\\n",
    "                                    GENDER, \\\n",
    "                                    COUNT, \\\n",
    "                                    SENIORCITIZEN, \\\n",
    "                                    PARTNER, \\\n",
    "                                    DEPENDENTS, \\\n",
    "                                    PHONESERVICE, \\\n",
    "                                    MULTIPLELINES,  \\\n",
    "                                    INTERNETSERVICE,  \\\n",
    "                                    ONLINESECURITY,  \\\n",
    "                                    ONLINEBACKUP, \\\n",
    "                                    DEVICEPROTECTION,  \\\n",
    "                                    TECHSUPPORT,  \\\n",
    "                                    STREAMINGTV,  \\\n",
    "                                    STREAMINGMOVIES, \\\n",
    "                                    CONTRACT,  \\\n",
    "                                    PAPERLESSBILLING,  \\\n",
    "                                    PAYMENTMETHOD,  \\\n",
    "                                    TENUREMONTHS, \\\n",
    "                                    MONTHLYCHARGES,  \\\n",
    "                                    TOTALCHARGES)) as Churn_prediction \\\n",
    "                                    from train_dataset sample (10 rows)').show()"
   ]
  },
  {
   "cell_type": "code",
   "execution_count": 21,
   "id": "96921432",
   "metadata": {},
   "outputs": [],
   "source": [
    "session.close()"
   ]
  },
  {
   "cell_type": "code",
   "execution_count": null,
   "id": "f7f73539",
   "metadata": {},
   "outputs": [],
   "source": []
  },
  {
   "cell_type": "code",
   "execution_count": null,
   "id": "5d938e05",
   "metadata": {},
   "outputs": [],
   "source": []
  }
 ],
 "metadata": {
  "kernelspec": {
   "display_name": "Python 3 (ipykernel)",
   "language": "python",
   "name": "python3"
  },
  "language_info": {
   "codemirror_mode": {
    "name": "ipython",
    "version": 3
   },
   "file_extension": ".py",
   "mimetype": "text/x-python",
   "name": "python",
   "nbconvert_exporter": "python",
   "pygments_lexer": "ipython3",
   "version": "3.8.16"
  }
 },
 "nbformat": 4,
 "nbformat_minor": 5
}
