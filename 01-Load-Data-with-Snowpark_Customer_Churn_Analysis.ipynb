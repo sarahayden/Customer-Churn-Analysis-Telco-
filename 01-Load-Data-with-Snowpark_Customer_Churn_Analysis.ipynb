{
 "cells": [
  {
   "cell_type": "markdown",
   "id": "c22811af",
   "metadata": {},
   "source": [
    "# Customer Churn Analysis"
   ]
  },
  {
   "cell_type": "markdown",
   "id": "cd14d694",
   "metadata": {},
   "source": [
    "We are tasked to build an end to end machine learning pipeline using snowpark for customer churn prediction in a telecom company.\n",
    "In this notebook we will load, clean and transform the raw parquet dataset"
   ]
  },
  {
   "cell_type": "code",
   "execution_count": 2,
   "id": "185944d3",
   "metadata": {},
   "outputs": [
    {
     "name": "stdout",
     "output_type": "stream",
     "text": [
      "Collecting seaborn\n",
      "  Downloading seaborn-0.12.2-py3-none-any.whl (293 kB)\n",
      "\u001b[K     |████████████████████████████████| 293 kB 4.6 MB/s eta 0:00:01\n",
      "\u001b[?25hRequirement already satisfied: matplotlib!=3.6.1,>=3.1 in ./anaconda3/envs/snowpark/lib/python3.8/site-packages (from seaborn) (3.7.1)\n",
      "Requirement already satisfied: pandas>=0.25 in ./anaconda3/envs/snowpark/lib/python3.8/site-packages (from seaborn) (1.4.4)\n",
      "Requirement already satisfied: numpy!=1.24.0,>=1.17 in ./anaconda3/envs/snowpark/lib/python3.8/site-packages (from seaborn) (1.23.5)\n",
      "Requirement already satisfied: pillow>=6.2.0 in ./anaconda3/envs/snowpark/lib/python3.8/site-packages (from matplotlib!=3.6.1,>=3.1->seaborn) (9.4.0)\n",
      "Requirement already satisfied: importlib-resources>=3.2.0 in ./anaconda3/envs/snowpark/lib/python3.8/site-packages (from matplotlib!=3.6.1,>=3.1->seaborn) (5.2.0)\n",
      "Requirement already satisfied: fonttools>=4.22.0 in ./anaconda3/envs/snowpark/lib/python3.8/site-packages (from matplotlib!=3.6.1,>=3.1->seaborn) (4.39.2)\n",
      "Requirement already satisfied: pyparsing>=2.3.1 in ./anaconda3/envs/snowpark/lib/python3.8/site-packages (from matplotlib!=3.6.1,>=3.1->seaborn) (3.0.9)\n",
      "Requirement already satisfied: packaging>=20.0 in ./anaconda3/envs/snowpark/lib/python3.8/site-packages (from matplotlib!=3.6.1,>=3.1->seaborn) (23.0)\n",
      "Requirement already satisfied: python-dateutil>=2.7 in ./anaconda3/envs/snowpark/lib/python3.8/site-packages (from matplotlib!=3.6.1,>=3.1->seaborn) (2.8.2)\n",
      "Requirement already satisfied: kiwisolver>=1.0.1 in ./anaconda3/envs/snowpark/lib/python3.8/site-packages (from matplotlib!=3.6.1,>=3.1->seaborn) (1.4.4)\n",
      "Requirement already satisfied: cycler>=0.10 in ./anaconda3/envs/snowpark/lib/python3.8/site-packages (from matplotlib!=3.6.1,>=3.1->seaborn) (0.11.0)\n",
      "Requirement already satisfied: contourpy>=1.0.1 in ./anaconda3/envs/snowpark/lib/python3.8/site-packages (from matplotlib!=3.6.1,>=3.1->seaborn) (1.0.7)\n",
      "Requirement already satisfied: zipp>=3.1.0 in ./anaconda3/envs/snowpark/lib/python3.8/site-packages (from importlib-resources>=3.2.0->matplotlib!=3.6.1,>=3.1->seaborn) (3.11.0)\n",
      "Requirement already satisfied: pytz>=2020.1 in ./anaconda3/envs/snowpark/lib/python3.8/site-packages (from pandas>=0.25->seaborn) (2022.7)\n",
      "Requirement already satisfied: six>=1.5 in ./anaconda3/envs/snowpark/lib/python3.8/site-packages (from python-dateutil>=2.7->matplotlib!=3.6.1,>=3.1->seaborn) (1.16.0)\n",
      "Installing collected packages: seaborn\n",
      "Successfully installed seaborn-0.12.2\n",
      "Note: you may need to restart the kernel to use updated packages.\n"
     ]
    }
   ],
   "source": [
    "pip install seaborn\n"
   ]
  },
  {
   "cell_type": "code",
   "execution_count": 1,
   "id": "0fbb9202",
   "metadata": {},
   "outputs": [],
   "source": [
    "# Import required libraries\n",
    "from snowflake.snowpark.session import Session\n",
    "#Returns a unique system identifier for the Snowflake session corresponding to the present connection\n",
    "from snowflake.snowpark import functions as F\n",
    "from snowflake.snowpark.types import *\n",
    "\n",
    "import pandas as pd\n",
    "\n",
    "import sklearn\n",
    "\n",
    "from sklearn import linear_model\n",
    "\n",
    "\n",
    "import matplotlib.pyplot as plt\n",
    "\n",
    "%matplotlib inline\n",
    "import datetime as dt\n",
    "import numpy as np\n",
    "import seaborn as sns\n",
    "\n",
    "#Snowflake connection info is saved in config.py\n",
    "from snowflake_conn_prop_Copy1 import snowflake_conn_prop\n",
    "\n",
    "\n",
    "# lets import some tranformations functions\n",
    "from snowflake.snowpark.functions import udf, col, lit, translate, is_null, iff\n"
   ]
  },
  {
   "cell_type": "code",
   "execution_count": 2,
   "id": "2065183a",
   "metadata": {},
   "outputs": [
    {
     "name": "stdout",
     "output_type": "stream",
     "text": [
      "(1, 2, 0)\n"
     ]
    }
   ],
   "source": [
    "from snowflake.snowpark import version\n",
    "print(version.VERSION)"
   ]
  },
  {
   "cell_type": "markdown",
   "id": "2990dcda",
   "metadata": {},
   "source": [
    "Let's configure our Snowpark Session and initialize the database, warehouse, and schema that we will be using"
   ]
  },
  {
   "cell_type": "code",
   "execution_count": 3,
   "id": "9bd51441",
   "metadata": {},
   "outputs": [],
   "source": [
    "#session.close()\n",
    "#session = Session.builder.configs(snowflake_conn_prop).create()\n",
    "session = Session.builder.configs(snowflake_conn_prop).create()\n"
   ]
  },
  {
   "cell_type": "code",
   "execution_count": 4,
   "id": "ca5a12e7",
   "metadata": {},
   "outputs": [
    {
     "name": "stdout",
     "output_type": "stream",
     "text": [
      "[Row(CURRENT_WAREHOUSE()='SP_QS_WH', CURRENT_DATABASE()='SNOWPARK_QUICKSTART', CURRENT_SCHEMA()='TELCO')]\n"
     ]
    }
   ],
   "source": [
    "session.sql(\"use role accountadmin\").collect()\n",
    "session.sql(\"create database if not exists  {}\".format(snowflake_conn_prop['database'])).collect()\n",
    "session.sql(\"use database {}\".format(snowflake_conn_prop['database'])).collect()\n",
    "session.sql(\"create schema if not exists {}\".format(snowflake_conn_prop['schema'])).collect()\n",
    "session.sql(\"use schema {}\".format(snowflake_conn_prop['schema'])).collect()\n",
    "session.sql(\"create or replace warehouse {} with \\\n",
    "                WAREHOUSE_SIZE = XSMALL \\\n",
    "                AUTO_SUSPEND = 120 \\\n",
    "                AUTO_RESUME = TRUE\".format(snowflake_conn_prop['warehouse'])).collect()\n",
    "session.sql(\"use warehouse {}\".format(snowflake_conn_prop['warehouse']))\n",
    "print(session.sql('select current_warehouse(), current_database(), current_schema()').collect())"
   ]
  },
  {
   "cell_type": "markdown",
   "id": "a91b7f7f",
   "metadata": {},
   "source": [
    "# Infer file schema & Load Data into snowflake"
   ]
  },
  {
   "cell_type": "code",
   "execution_count": 5,
   "id": "b511bc15",
   "metadata": {},
   "outputs": [],
   "source": [
    "filename = \"raw_telco_data.parquet\"\n",
    "stagename = \"rawdata\"\n",
    "rawtable = \"RAW_PARQUET_DATA\""
   ]
  },
  {
   "cell_type": "code",
   "execution_count": 6,
   "id": "22d77e20",
   "metadata": {},
   "outputs": [
    {
     "data": {
      "text/plain": [
       "[PutResult(source='raw_telco_data.parquet', target='raw_telco_data.parquet', source_size=3037540, target_size=3037552, source_compression='PARQUET', target_compression='PARQUET', status='UPLOADED', message='')]"
      ]
     },
     "execution_count": 6,
     "metadata": {},
     "output_type": "execute_result"
    }
   ],
   "source": [
    "session.sql(f\"create or replace stage {stagename} DIRECTORY = (ENABLE = TRUE);\").collect()\n",
    "session.file.put(filename,stagename)"
   ]
  },
  {
   "cell_type": "code",
   "execution_count": 7,
   "id": "0a9f914d",
   "metadata": {},
   "outputs": [
    {
     "data": {
      "text/plain": [
       "[Row(status='Table RAW_PARQUET_DATA successfully created.')]"
      ]
     },
     "execution_count": 7,
     "metadata": {},
     "output_type": "execute_result"
    }
   ],
   "source": [
    "session.sql(\"CREATE OR REPLACE FILE FORMAT MY_PARQUET_FORMAT TYPE = PARQUET;\").collect()\n",
    "\n",
    "session.sql(f\"CREATE OR REPLACE \\\n",
    "            TABLE {rawtable} USING TEMPLATE ( \\\n",
    "                SELECT ARRAY_AGG(OBJECT_CONSTRUCT(*)) \\\n",
    "                FROM \\\n",
    "                    TABLE( INFER_SCHEMA( \\\n",
    "                    LOCATION => '@{stagename}/{filename}', \\\n",
    "                    FILE_FORMAT => 'MY_PARQUET_FORMAT' \\\n",
    "                    ) \\\n",
    "                ) \\\n",
    "            );  \").collect()"
   ]
  },
  {
   "cell_type": "markdown",
   "id": "8340bd94",
   "metadata": {},
   "source": [
    "# For incremental load"
   ]
  },
  {
   "cell_type": "markdown",
   "id": "7d3b353c",
   "metadata": {},
   "source": [
    "you might want to just delete all rows and load new data to this table"
   ]
  },
  {
   "cell_type": "code",
   "execution_count": 8,
   "id": "5d4eaf60",
   "metadata": {},
   "outputs": [],
   "source": [
    "dfClear = session.table(rawtable).delete()"
   ]
  },
  {
   "cell_type": "code",
   "execution_count": 9,
   "id": "c83c74a9",
   "metadata": {},
   "outputs": [
    {
     "data": {
      "text/plain": [
       "[Row(file='rawdata/raw_telco_data.parquet', status='LOADED', rows_parsed=100000, rows_loaded=100000, error_limit=1, errors_seen=0, first_error=None, first_error_line=None, first_error_character=None, first_error_column_name=None)]"
      ]
     },
     "execution_count": 9,
     "metadata": {},
     "output_type": "execute_result"
    }
   ],
   "source": [
    "dfRaw = session.read.option(\"compression\",\"snappy\").parquet(f\"@{stagename}/{filename}\")\n",
    "dfRaw.copy_into_table(rawtable,FORCE= True)"
   ]
  },
  {
   "cell_type": "code",
   "execution_count": 10,
   "id": "8555a9a7",
   "metadata": {},
   "outputs": [
    {
     "data": {
      "text/html": [
       "<div>\n",
       "<style scoped>\n",
       "    .dataframe tbody tr th:only-of-type {\n",
       "        vertical-align: middle;\n",
       "    }\n",
       "\n",
       "    .dataframe tbody tr th {\n",
       "        vertical-align: top;\n",
       "    }\n",
       "\n",
       "    .dataframe thead th {\n",
       "        text-align: right;\n",
       "    }\n",
       "</style>\n",
       "<table border=\"1\" class=\"dataframe\">\n",
       "  <thead>\n",
       "    <tr style=\"text-align: right;\">\n",
       "      <th></th>\n",
       "      <th>CUSTOMERID</th>\n",
       "      <th>GENDER</th>\n",
       "      <th>PARTNER</th>\n",
       "      <th>DEPENDENTS</th>\n",
       "      <th>COUNTRY</th>\n",
       "      <th>CITY</th>\n",
       "      <th>STATE</th>\n",
       "      <th>ZIP CODE</th>\n",
       "      <th>LONGITUDE</th>\n",
       "      <th>LATITUDE</th>\n",
       "      <th>...</th>\n",
       "      <th>STREAMING TV</th>\n",
       "      <th>CONTRACT</th>\n",
       "      <th>CHURN SCORE</th>\n",
       "      <th>ONLINE BACKUP</th>\n",
       "      <th>DEVICE PROTECTION</th>\n",
       "      <th>TOTAL CHARGES</th>\n",
       "      <th>CLTV</th>\n",
       "      <th>CHURN VALUE</th>\n",
       "      <th>CHURN LABEL</th>\n",
       "      <th>CHURN REASON</th>\n",
       "    </tr>\n",
       "  </thead>\n",
       "  <tbody>\n",
       "    <tr>\n",
       "      <th>0</th>\n",
       "      <td>4318-jsWlq</td>\n",
       "      <td>Female</td>\n",
       "      <td>True</td>\n",
       "      <td>False</td>\n",
       "      <td>United States</td>\n",
       "      <td>San Pedro</td>\n",
       "      <td>California</td>\n",
       "      <td>90731</td>\n",
       "      <td>-118.284363</td>\n",
       "      <td>33.736387</td>\n",
       "      <td>...</td>\n",
       "      <td>Yes</td>\n",
       "      <td>One year</td>\n",
       "      <td>0</td>\n",
       "      <td>Yes</td>\n",
       "      <td>No</td>\n",
       "      <td>4594.65</td>\n",
       "      <td>3517</td>\n",
       "      <td>0.0</td>\n",
       "      <td>False</td>\n",
       "      <td>do not know</td>\n",
       "    </tr>\n",
       "    <tr>\n",
       "      <th>1</th>\n",
       "      <td>3891-OotYM</td>\n",
       "      <td>Female</td>\n",
       "      <td>False</td>\n",
       "      <td>False</td>\n",
       "      <td>United States</td>\n",
       "      <td>Pleasant Grove</td>\n",
       "      <td>California</td>\n",
       "      <td>95668</td>\n",
       "      <td>-121.498102</td>\n",
       "      <td>38.833554</td>\n",
       "      <td>...</td>\n",
       "      <td>Yes</td>\n",
       "      <td>Month-to-month</td>\n",
       "      <td>1</td>\n",
       "      <td>Yes</td>\n",
       "      <td>Yes</td>\n",
       "      <td>442.85</td>\n",
       "      <td>2268</td>\n",
       "      <td>1.0</td>\n",
       "      <td>True</td>\n",
       "      <td>Competitor offered more data</td>\n",
       "    </tr>\n",
       "    <tr>\n",
       "      <th>2</th>\n",
       "      <td>2581-21SEu</td>\n",
       "      <td>Female</td>\n",
       "      <td>False</td>\n",
       "      <td>False</td>\n",
       "      <td>United States</td>\n",
       "      <td>Redwood City</td>\n",
       "      <td>California</td>\n",
       "      <td>94063</td>\n",
       "      <td>-122.196318</td>\n",
       "      <td>37.499411</td>\n",
       "      <td>...</td>\n",
       "      <td>Yes</td>\n",
       "      <td>Two year</td>\n",
       "      <td>0</td>\n",
       "      <td>No</td>\n",
       "      <td>Yes</td>\n",
       "      <td>3921.10</td>\n",
       "      <td>6251</td>\n",
       "      <td>0.0</td>\n",
       "      <td>False</td>\n",
       "      <td>do not know</td>\n",
       "    </tr>\n",
       "    <tr>\n",
       "      <th>3</th>\n",
       "      <td>4314-DhnS2</td>\n",
       "      <td>Male</td>\n",
       "      <td>False</td>\n",
       "      <td>False</td>\n",
       "      <td>United States</td>\n",
       "      <td>Cool</td>\n",
       "      <td>California</td>\n",
       "      <td>95614</td>\n",
       "      <td>-120.973865</td>\n",
       "      <td>38.880622</td>\n",
       "      <td>...</td>\n",
       "      <td>Yes</td>\n",
       "      <td>Month-to-month</td>\n",
       "      <td>1</td>\n",
       "      <td>No</td>\n",
       "      <td>Yes</td>\n",
       "      <td>197.70</td>\n",
       "      <td>3790</td>\n",
       "      <td>1.0</td>\n",
       "      <td>True</td>\n",
       "      <td>Service dissatisfaction</td>\n",
       "    </tr>\n",
       "    <tr>\n",
       "      <th>4</th>\n",
       "      <td>4635-xuiMI</td>\n",
       "      <td>Male</td>\n",
       "      <td>True</td>\n",
       "      <td>False</td>\n",
       "      <td>United States</td>\n",
       "      <td>Los Angeles</td>\n",
       "      <td>California</td>\n",
       "      <td>90044</td>\n",
       "      <td>-118.292061</td>\n",
       "      <td>33.952714</td>\n",
       "      <td>...</td>\n",
       "      <td>Yes</td>\n",
       "      <td>Two year</td>\n",
       "      <td>0</td>\n",
       "      <td>Yes</td>\n",
       "      <td>Yes</td>\n",
       "      <td>8375.05</td>\n",
       "      <td>6274</td>\n",
       "      <td>0.0</td>\n",
       "      <td>False</td>\n",
       "      <td>do not know</td>\n",
       "    </tr>\n",
       "  </tbody>\n",
       "</table>\n",
       "<p>5 rows × 33 columns</p>\n",
       "</div>"
      ],
      "text/plain": [
       "   CUSTOMERID  GENDER  PARTNER  DEPENDENTS        COUNTRY            CITY  \\\n",
       "0  4318-jsWlq  Female     True       False  United States       San Pedro   \n",
       "1  3891-OotYM  Female    False       False  United States  Pleasant Grove   \n",
       "2  2581-21SEu  Female    False       False  United States    Redwood City   \n",
       "3  4314-DhnS2    Male    False       False  United States            Cool   \n",
       "4  4635-xuiMI    Male     True       False  United States     Los Angeles   \n",
       "\n",
       "        STATE ZIP CODE    LONGITUDE   LATITUDE  ... STREAMING TV  \\\n",
       "0  California    90731  -118.284363  33.736387  ...          Yes   \n",
       "1  California    95668  -121.498102  38.833554  ...          Yes   \n",
       "2  California    94063  -122.196318  37.499411  ...          Yes   \n",
       "3  California    95614  -120.973865  38.880622  ...          Yes   \n",
       "4  California    90044  -118.292061  33.952714  ...          Yes   \n",
       "\n",
       "         CONTRACT CHURN SCORE  ONLINE BACKUP  DEVICE PROTECTION TOTAL CHARGES  \\\n",
       "0        One year           0            Yes                 No       4594.65   \n",
       "1  Month-to-month           1            Yes                Yes        442.85   \n",
       "2        Two year           0             No                Yes       3921.10   \n",
       "3  Month-to-month           1             No                Yes        197.70   \n",
       "4        Two year           0            Yes                Yes       8375.05   \n",
       "\n",
       "   CLTV CHURN VALUE  CHURN LABEL                  CHURN REASON  \n",
       "0  3517         0.0        False                   do not know  \n",
       "1  2268         1.0         True  Competitor offered more data  \n",
       "2  6251         0.0        False                   do not know  \n",
       "3  3790         1.0         True       Service dissatisfaction  \n",
       "4  6274         0.0        False                   do not know  \n",
       "\n",
       "[5 rows x 33 columns]"
      ]
     },
     "execution_count": 10,
     "metadata": {},
     "output_type": "execute_result"
    }
   ],
   "source": [
    "dfR = session.table(rawtable).sample(n=5)\n",
    "dfR.toPandas()"
   ]
  },
  {
   "cell_type": "markdown",
   "id": "658ae2d7",
   "metadata": {},
   "source": [
    "# Snowpark Transformations"
   ]
  },
  {
   "cell_type": "markdown",
   "id": "6bc9dbdc",
   "metadata": {},
   "source": [
    "The Snowpark API provides programming language constructs for building SQL statements. It's a new developer experience which enables us to build code in :-\n",
    "\n",
    "\n",
    "- **Language of our choice**\n",
    "- **Tool of our choice and**\n",
    "- **Lazy execution to prevent multiple network hops to server**\n",
    "\n",
    "Once the customer data is available in the RAW schema, we can use snowpark to create dimensions and fact tables. We will use the RAW_PARQUET table to create following tables -\n",
    "\n",
    "- DEMOGRAPHICS\n",
    "- LOCATION\n",
    "- STATUS\n",
    "- SERVICES\n",
    "\n",
    "We will also transform and clean the data using Snowpark dataframe API"
   ]
  },
  {
   "cell_type": "code",
   "execution_count": 11,
   "id": "bf105d98",
   "metadata": {},
   "outputs": [],
   "source": [
    "dfR = session.table(rawtable)"
   ]
  },
  {
   "cell_type": "code",
   "execution_count": 12,
   "id": "a3f1c527",
   "metadata": {},
   "outputs": [
    {
     "name": "stdout",
     "output_type": "stream",
     "text": [
      "----------------------------------------------------------------------------------\n",
      "|\"CUSTOMERID\"  |\"COUNT\"  |\"GENDER\"  |\"SENIORCITIZEN\"  |\"PARTNER\"  |\"DEPENDENTS\"  |\n",
      "----------------------------------------------------------------------------------\n",
      "|7090-ZyCMx    |1        |Female    |False            |False      |True          |\n",
      "|1364-wJXMS    |1        |Female    |False            |False      |True          |\n",
      "|6564-sLgIC    |1        |Male      |True             |False      |True          |\n",
      "|7853-2xheR    |1        |Male      |False            |False      |True          |\n",
      "|8457-E9FuW    |1        |Female    |False            |False      |True          |\n",
      "|5718-ykxBT    |1        |Male      |False            |False      |True          |\n",
      "|7092-gCJX5    |1        |Male      |False            |False      |False         |\n",
      "|8249-GOs7s    |1        |Male      |True             |False      |False         |\n",
      "|9445-kPPEc    |1        |Male      |False            |False      |False         |\n",
      "|1581-8yNji    |1        |Male      |True             |True       |False         |\n",
      "----------------------------------------------------------------------------------\n",
      "\n"
     ]
    }
   ],
   "source": [
    "dfDemographics = dfR.select(col(\"CUSTOMERID\"),\n",
    "                             col(\"COUNT\").alias(\"COUNT\"),\n",
    "                             translate(col(\"GENDER\"),lit(\"NULL\"),lit(\"Male\")).alias(\"GENDER\"),\n",
    "                             col(\"SENIOR CITIZEN\").alias(\"SENIORCITIZEN\"),\n",
    "                             col(\"PARTNER\"),\n",
    "                             col(\"DEPENDENTS\")          \n",
    "                            )\n",
    "\n",
    "\n",
    "dfDemographics.write.mode('overwrite').saveAsTable('DEMOGRAPHICS')\n",
    "dfDemographics.show()"
   ]
  },
  {
   "cell_type": "code",
   "execution_count": 13,
   "id": "92c58d30",
   "metadata": {},
   "outputs": [
    {
     "name": "stdout",
     "output_type": "stream",
     "text": [
      "-------------------------------------------------------------------------------------------------------------------------------\n",
      "|\"CUSTOMERID\"  |\"COUNTRY\"      |\"STATE\"     |\"CITY\"           |\"ZIPCODE\"  |\"LATLONG\"               |\"LATITUDE\"  |\"LONGITUDE\"  |\n",
      "-------------------------------------------------------------------------------------------------------------------------------\n",
      "|7090-ZyCMx    |United States  |California  |Los Angeles      |90005      |34.059281, -118.30742   |34.059281   |-118.307420  |\n",
      "|1364-wJXMS    |United States  |California  |Los Angeles      |90006      |34.048013, -118.293953  |34.048013   |-118.293953  |\n",
      "|6564-sLgIC    |United States  |California  |Los Angeles      |90065      |34.108833, -118.229715  |34.108833   |-118.229715  |\n",
      "|7853-2xheR    |United States  |California  |La Habra         |90631      |33.940619, -117.9513    |33.940619   |-117.951300  |\n",
      "|8457-E9FuW    |United States  |California  |Glendale         |91206      |34.162515, -118.203869  |34.162515   |-118.203869  |\n",
      "|5718-ykxBT    |United States  |California  |Burbank          |91504      |34.213049, -118.317651  |34.213049   |-118.317651  |\n",
      "|7092-gCJX5    |United States  |California  |Ontario          |91762      |34.057256, -117.667677  |34.057256   |-117.667677  |\n",
      "|8249-GOs7s    |United States  |California  |Alpine           |91901      |32.827184, -116.703729  |32.827184   |-116.703729  |\n",
      "|9445-kPPEc    |United States  |California  |Borrego Springs  |92004      |33.200369, -116.192313  |33.200369   |-116.192313  |\n",
      "|1581-8yNji    |United States  |California  |Del Mar          |92014      |32.948262, -117.256086  |32.948262   |-117.256086  |\n",
      "-------------------------------------------------------------------------------------------------------------------------------\n",
      "\n"
     ]
    }
   ],
   "source": [
    "dfLocation = dfR.select(col(\"CUSTOMERID\"),\n",
    "                         col(\"COUNTRY\").name(\"COUNTRY\"),\n",
    "                         col(\"STATE\").name(\"STATE\"),\n",
    "                         col(\"CITY\").name(\"CITY\"),\n",
    "                         translate(col(\"ZIP CODE\"),lit(\"NULL\"),lit(0)).name(\"ZIPCODE\"),\n",
    "                         col(\"LAT LONG\").name(\"LATLONG\"),\n",
    "                         col(\"LATITUDE\").name(\"LATITUDE\"),\n",
    "                         col(\"LONGITUDE\").name(\"LONGITUDE\")       \n",
    "                        )\n",
    "\n",
    "dfLocation.write.mode('overwrite').saveAsTable('LOCATION')\n",
    "dfLocation.show()"
   ]
  },
  {
   "cell_type": "markdown",
   "id": "86e95c6e",
   "metadata": {},
   "source": [
    "you can run transformation on data using similar dataframe API constructs, for example -\n"
   ]
  },
  {
   "cell_type": "code",
   "execution_count": 14,
   "id": "6e8f6bab",
   "metadata": {},
   "outputs": [
    {
     "name": "stdout",
     "output_type": "stream",
     "text": [
      "----------------------------------------------------------------------------------------------------------------------------------------------------------------------------------------------------------------------------------------------------------------------------------------------------------------------------------------\n",
      "|\"CUSTOMERID\"  |\"TENUREMONTHS\"  |\"PHONESERVICE\"  |\"MULTIPLELINES\"  |\"INTERNETSERVICE\"  |\"ONLINESECURITY\"     |\"ONLINEBACKUP\"       |\"DEVICEPROTECTION\"   |\"TECHSUPPORT\"        |\"STREAMINGTV\"        |\"STREAMINGMOVIES\"    |\"CONTRACT\"      |\"PAPERLESSBILLING\"  |\"PAYMENTMETHOD\"   |\"MONTHLYCHARGES\"  |\"TOTALCHARGES\"  |\"CHURNVALUE\"  |\n",
      "----------------------------------------------------------------------------------------------------------------------------------------------------------------------------------------------------------------------------------------------------------------------------------------------------------------------------------------\n",
      "|7090-ZyCMx    |2               |Yes             |No               |Fiber optic        |No                   |No                   |No                   |No                   |No                   |No                   |Month-to-month  |true                |Electronic check  |70.7              |151.65          |1.0           |\n",
      "|1364-wJXMS    |8               |Yes             |Yes              |Fiber optic        |No                   |No                   |Yes                  |No                   |Yes                  |Yes                  |Month-to-month  |true                |Electronic check  |99.65             |820.5           |1.0           |\n",
      "|6564-sLgIC    |18              |Yes             |Yes              |Fiber optic        |No                   |No                   |No                   |No                   |Yes                  |Yes                  |Month-to-month  |true                |Electronic check  |95.45             |1752.55         |1.0           |\n",
      "|7853-2xheR    |3               |Yes             |Yes              |Fiber optic        |No                   |No                   |No                   |No                   |No                   |No                   |Month-to-month  |true                |Electronic check  |74.4              |229.55          |1.0           |\n",
      "|8457-E9FuW    |13              |Yes             |No               |Fiber optic        |No                   |Yes                  |Yes                  |No                   |No                   |No                   |Month-to-month  |true                |Electronic check  |79.25             |1111.65         |1.0           |\n",
      "|5718-ykxBT    |1               |Yes             |No               |Fiber optic        |Yes                  |No                   |No                   |No                   |No                   |Yes                  |Month-to-month  |true                |Mailed check      |84.6              |84.6            |1.0           |\n",
      "|7092-gCJX5    |59              |Yes             |No               |No                 |No internet service  |No internet service  |No internet service  |No internet service  |No internet service  |No internet service  |Two year        |false               |Mailed check      |19.35             |1099.6          |1.0           |\n",
      "|8249-GOs7s    |8               |Yes             |No               |Fiber optic        |No                   |Yes                  |No                   |No                   |No                   |No                   |Month-to-month  |true                |Electronic check  |74.5              |606.55          |1.0           |\n",
      "|9445-kPPEc    |5               |Yes             |No               |Fiber optic        |No                   |No                   |No                   |No                   |Yes                  |No                   |Month-to-month  |true                |Electronic check  |80.6              |415.55          |1.0           |\n",
      "|1581-8yNji    |24              |Yes             |No               |Fiber optic        |No                   |No                   |Yes                  |No                   |Yes                  |Yes                  |Month-to-month  |true                |Electronic check  |93.15             |2231.05         |1.0           |\n",
      "----------------------------------------------------------------------------------------------------------------------------------------------------------------------------------------------------------------------------------------------------------------------------------------------------------------------------------------\n",
      "\n"
     ]
    }
   ],
   "source": [
    "dfServices = dfR.select(col(\"CUSTOMERID\"),\n",
    "                       col(\"TENURE MONTHS\").name(\"TENUREMONTHS\"),\n",
    "                       iff(is_null(col(\"PHONE SERVICE\")),lit('N'),col(\"PHONE SERVICE\")).name(\"PHONESERVICE\"),\n",
    "                       iff(is_null(col(\"MULTIPLE LINES\")),lit(\"No\"),col(\"MULTIPLE LINES\")).name(\"MULTIPLELINES\"),\n",
    "                       iff(is_null(col(\"INTERNET SERVICE\")),lit(\"No\"),col(\"INTERNET SERVICE\")).name(\"INTERNETSERVICE\"),\n",
    "                       iff(is_null(col(\"ONLINE SECURITY\")),lit(\"No\"),col(\"ONLINE SECURITY\")).name(\"ONLINESECURITY\"),\n",
    "                       iff(is_null(col(\"ONLINE BACKUP\")),lit(\"No\"),col(\"ONLINE BACKUP\")).name(\"ONLINEBACKUP\"),\n",
    "                       iff(is_null(col(\"DEVICE PROTECTION\")),lit(\"No\"),col(\"DEVICE PROTECTION\")).name(\"DEVICEPROTECTION\"),\n",
    "                       iff(is_null(col(\"TECH SUPPORT\")),lit('N'),col(\"TECH SUPPORT\")).name(\"TECHSUPPORT\"),\n",
    "                       iff(is_null(col(\"STREAMING TV\")),lit(\"No\"),col(\"STREAMING TV\")).name(\"STREAMINGTV\"),\n",
    "                       iff(is_null(col(\"STREAMING MOVIES\")),lit(\"No\"),col(\"STREAMING MOVIES\")).name(\"STREAMINGMOVIES\"),\n",
    "                       iff(is_null(col(\"CONTRACT\")),lit(\"Month-to-month\"),col(\"CONTRACT\")).name(\"CONTRACT\"),\n",
    "                       iff(is_null(col(\"PAPERLESS BILLING\")),lit('Y'),col(\"PAPERLESS BILLING\")).name(\"PAPERLESSBILLING\"),\n",
    "                       iff(is_null(col(\"PAYMENT METHOD\")),lit(\"Mailed check\"),col(\"PAYMENT METHOD\")).name(\"PAYMENTMETHOD\"),\n",
    "                       col(\"MONTHLY CHARGES\").name(\"MONTHLYCHARGES\"),\n",
    "                       col(\"TOTAL CHARGES\").name(\"TOTALCHARGES\"),\n",
    "                       col(\"CHURN VALUE\").name(\"CHURNVALUE\")        \n",
    "\n",
    "                      )\n",
    "\n",
    "dfServices.write.mode('overwrite').saveAsTable('SERVICES')\n",
    "dfServices.show()"
   ]
  },
  {
   "cell_type": "code",
   "execution_count": 15,
   "id": "24484093",
   "metadata": {},
   "outputs": [
    {
     "name": "stdout",
     "output_type": "stream",
     "text": [
      "-----------------------------------------------------------------------------------------------------------------\n",
      "|\"CUSTOMERID\"  |\"CHURNLABEL\"  |\"CHURNVALUE\"  |\"CHURNSCORE\"  |\"CLTV\"  |\"CHURNREASON\"                             |\n",
      "-----------------------------------------------------------------------------------------------------------------\n",
      "|7090-ZyCMx    |true          |1.0           |1             |2701    |Moved                                     |\n",
      "|1364-wJXMS    |true          |1.0           |1             |5372    |Moved                                     |\n",
      "|6564-sLgIC    |true          |1.0           |1             |3179    |Competitor made better offer              |\n",
      "|7853-2xheR    |true          |1.0           |1             |4415    |Product dissatisfaction                   |\n",
      "|8457-E9FuW    |true          |1.0           |1             |5142    |Price too high                            |\n",
      "|5718-ykxBT    |true          |1.0           |1             |2484    |Poor expertise of phone support           |\n",
      "|7092-gCJX5    |true          |1.0           |1             |5084    |Price too high                            |\n",
      "|8249-GOs7s    |true          |1.0           |1             |4345    |Poor expertise of online support          |\n",
      "|9445-kPPEc    |true          |1.0           |1             |5715    |Network reliability                       |\n",
      "|1581-8yNji    |true          |1.0           |1             |2212    |Lack of affordable download/upload speed  |\n",
      "-----------------------------------------------------------------------------------------------------------------\n",
      "\n"
     ]
    }
   ],
   "source": [
    "dfStatus = dfR.select(col(\"CUSTOMERID\"),\n",
    "                    iff(is_null(col(\"CHURN LABEL\")),lit('N'),col(\"CHURN LABEL\")).name(\"CHURNLABEL\"),\n",
    "                    col(\"CHURN VALUE\").name(\"CHURNVALUE\"),\n",
    "                    col(\"CHURN SCORE\").name(\"CHURNSCORE\"),\n",
    "                    col(\"CLTV\").name(\"CLTV\"),\n",
    "                    iff(is_null(col(\"CHURN REASON\")),lit(\"do not know\"),col(\"CHURN REASON\")).name(\"CHURNREASON\")          \n",
    "                    )\n",
    "\n",
    "dfStatus.write.mode('overwrite').saveAsTable('STATUS')\n",
    "dfStatus.show()"
   ]
  },
  {
   "cell_type": "markdown",
   "id": "f490be8a",
   "metadata": {},
   "source": [
    "# Lets check the data using an example query"
   ]
  },
  {
   "cell_type": "markdown",
   "id": "aa802c59",
   "metadata": {},
   "source": [
    "This shows one of many uses of snowpark. You can build and query dataframes lazily."
   ]
  },
  {
   "cell_type": "code",
   "execution_count": 16,
   "id": "eaa45566",
   "metadata": {},
   "outputs": [
    {
     "name": "stdout",
     "output_type": "stream",
     "text": [
      "----------------------------------------------------------\n",
      "|\"CITY\"           |\"CONTRACT\"      |\"SUM(TOTALCHARGES)\"  |\n",
      "----------------------------------------------------------\n",
      "|Los Angeles      |Month-to-month  |3931004.7            |\n",
      "|La Habra         |Month-to-month  |6828.35              |\n",
      "|Glendale         |Month-to-month  |460483.05            |\n",
      "|Burbank          |Month-to-month  |378354.4             |\n",
      "|Ontario          |Two year        |57487.6              |\n",
      "|Alpine           |Month-to-month  |69186.04999999999    |\n",
      "|Borrego Springs  |Month-to-month  |94737.0              |\n",
      "|Oceanside        |Month-to-month  |49559.5              |\n",
      "|Niland           |Month-to-month  |24946.0              |\n",
      "|San Bernardino   |Month-to-month  |253583.3             |\n",
      "----------------------------------------------------------\n",
      "\n"
     ]
    }
   ],
   "source": [
    "# Lets run a query for quick sanity check\n",
    "# This Query will show us the total revenue by city and contract term\n",
    "\n",
    "dfLoc = session.table(\"LOCATION\")\n",
    "dfServ = session.table(\"SERVICES\")\n",
    "\n",
    "dfJoin = dfLoc.join(dfServ,dfLoc.col(\"CUSTOMERID\") == dfServ.col(\"CUSTOMERID\"))\n",
    "\n",
    "dfResult = dfJoin.select(col(\"CITY\"),\n",
    "                         col(\"CONTRACT\"),\n",
    "                         col(\"TOTALCHARGES\")).groupBy(col(\"CITY\"),col(\"CONTRACT\")).sum(col(\"TOTALCHARGES\"))\n",
    "\n",
    "dfResult.show()"
   ]
  },
  {
   "cell_type": "markdown",
   "id": "8f064d49",
   "metadata": {},
   "source": [
    "### Let's create a view for data science team to begin data analysis"
   ]
  },
  {
   "cell_type": "markdown",
   "id": "5fcb0b87",
   "metadata": {},
   "source": [
    "To do so, join up the **DEMOGRAPHICS** and **SERVICES** tables based on **CUSTOMERID**"
   ]
  },
  {
   "cell_type": "code",
   "execution_count": 17,
   "id": "def533f4",
   "metadata": {},
   "outputs": [
    {
     "data": {
      "text/plain": [
       "[Row(status='View TRAIN_DATASET successfully created.')]"
      ]
     },
     "execution_count": 17,
     "metadata": {},
     "output_type": "execute_result"
    }
   ],
   "source": [
    "dfD = session.table('DEMOGRAPHICS')\n",
    "dfS = session.table('SERVICES')\n",
    "dfJ = dfD.join(dfS, using_columns='CUSTOMERID', join_type = 'left')\n",
    "dfJ.select(col('GENDER'),\n",
    "              col('SENIORCITIZEN'),\n",
    "              col('PARTNER'),\n",
    "              col('DEPENDENTS'),\n",
    "              col('MULTIPLELINES'),\n",
    "              col('INTERNETSERVICE'),\n",
    "              col('ONLINESECURITY'),\n",
    "              col('ONLINEBACKUP'),\n",
    "              col('DEVICEPROTECTION'),\n",
    "              col('TECHSUPPORT'),\n",
    "              col('STREAMINGTV'),\n",
    "              col('STREAMINGMOVIES'),\n",
    "              col('CONTRACT'),\n",
    "              col('PAPERLESSBILLING'),\n",
    "              col('PAYMENTMETHOD'),\n",
    "              col('TENUREMONTHS'),\n",
    "              col('MONTHLYCHARGES'),\n",
    "              col('TOTALCHARGES'),\n",
    "              col('CHURNVALUE'))\n",
    "dfJ.create_or_replace_view('TRAIN_DATASET')"
   ]
  },
  {
   "cell_type": "code",
   "execution_count": 18,
   "id": "f7b02022",
   "metadata": {},
   "outputs": [
    {
     "name": "stdout",
     "output_type": "stream",
     "text": [
      "CPU times: user 23.8 ms, sys: 7.28 ms, total: 31.1 ms\n",
      "Wall time: 429 ms\n"
     ]
    }
   ],
   "source": [
    "%%time\n",
    "\n",
    "raw = session.table('TRAIN_DATASET').sample(n = 20)\n",
    "data = raw.toPandas()"
   ]
  },
  {
   "cell_type": "markdown",
   "id": "58ec4165",
   "metadata": {},
   "source": [
    "# Off to ~02 notebook for exploratory data analysis"
   ]
  },
  {
   "cell_type": "code",
   "execution_count": 19,
   "id": "b8f7e41b",
   "metadata": {},
   "outputs": [
    {
     "data": {
      "text/html": [
       "<div>\n",
       "<style scoped>\n",
       "    .dataframe tbody tr th:only-of-type {\n",
       "        vertical-align: middle;\n",
       "    }\n",
       "\n",
       "    .dataframe tbody tr th {\n",
       "        vertical-align: top;\n",
       "    }\n",
       "\n",
       "    .dataframe thead th {\n",
       "        text-align: right;\n",
       "    }\n",
       "</style>\n",
       "<table border=\"1\" class=\"dataframe\">\n",
       "  <thead>\n",
       "    <tr style=\"text-align: right;\">\n",
       "      <th></th>\n",
       "      <th>CUSTOMERID</th>\n",
       "      <th>COUNT</th>\n",
       "      <th>GENDER</th>\n",
       "      <th>SENIORCITIZEN</th>\n",
       "      <th>PARTNER</th>\n",
       "      <th>DEPENDENTS</th>\n",
       "      <th>TENUREMONTHS</th>\n",
       "      <th>PHONESERVICE</th>\n",
       "      <th>MULTIPLELINES</th>\n",
       "      <th>INTERNETSERVICE</th>\n",
       "      <th>ONLINESECURITY</th>\n",
       "      <th>ONLINEBACKUP</th>\n",
       "      <th>DEVICEPROTECTION</th>\n",
       "      <th>TECHSUPPORT</th>\n",
       "      <th>STREAMINGTV</th>\n",
       "      <th>STREAMINGMOVIES</th>\n",
       "      <th>CONTRACT</th>\n",
       "      <th>PAPERLESSBILLING</th>\n",
       "      <th>PAYMENTMETHOD</th>\n",
       "      <th>MONTHLYCHARGES</th>\n",
       "      <th>TOTALCHARGES</th>\n",
       "      <th>CHURNVALUE</th>\n",
       "    </tr>\n",
       "  </thead>\n",
       "  <tbody>\n",
       "    <tr>\n",
       "      <th>0</th>\n",
       "      <td>5519-4QhR4</td>\n",
       "      <td>1</td>\n",
       "      <td>Male</td>\n",
       "      <td>True</td>\n",
       "      <td>True</td>\n",
       "      <td>True</td>\n",
       "      <td>71</td>\n",
       "      <td>Yes</td>\n",
       "      <td>No</td>\n",
       "      <td>No</td>\n",
       "      <td>No internet service</td>\n",
       "      <td>No internet service</td>\n",
       "      <td>No internet service</td>\n",
       "      <td>No internet service</td>\n",
       "      <td>No internet service</td>\n",
       "      <td>No internet service</td>\n",
       "      <td>Two year</td>\n",
       "      <td>false</td>\n",
       "      <td>Credit card (automatic)</td>\n",
       "      <td>19.80</td>\n",
       "      <td>1388.45</td>\n",
       "      <td>0.0</td>\n",
       "    </tr>\n",
       "    <tr>\n",
       "      <th>1</th>\n",
       "      <td>6348-Ta3Yx</td>\n",
       "      <td>1</td>\n",
       "      <td>Male</td>\n",
       "      <td>False</td>\n",
       "      <td>True</td>\n",
       "      <td>True</td>\n",
       "      <td>5</td>\n",
       "      <td>Yes</td>\n",
       "      <td>Yes</td>\n",
       "      <td>No</td>\n",
       "      <td>No internet service</td>\n",
       "      <td>No internet service</td>\n",
       "      <td>No internet service</td>\n",
       "      <td>No internet service</td>\n",
       "      <td>No internet service</td>\n",
       "      <td>No internet service</td>\n",
       "      <td>Month-to-month</td>\n",
       "      <td>true</td>\n",
       "      <td>Bank transfer (automatic)</td>\n",
       "      <td>25.90</td>\n",
       "      <td>135.00</td>\n",
       "      <td>1.0</td>\n",
       "    </tr>\n",
       "    <tr>\n",
       "      <th>2</th>\n",
       "      <td>9338-uZxDn</td>\n",
       "      <td>1</td>\n",
       "      <td>Male</td>\n",
       "      <td>False</td>\n",
       "      <td>True</td>\n",
       "      <td>True</td>\n",
       "      <td>61</td>\n",
       "      <td>Yes</td>\n",
       "      <td>Yes</td>\n",
       "      <td>DSL</td>\n",
       "      <td>No</td>\n",
       "      <td>No</td>\n",
       "      <td>Yes</td>\n",
       "      <td>Yes</td>\n",
       "      <td>Yes</td>\n",
       "      <td>Yes</td>\n",
       "      <td>Two year</td>\n",
       "      <td>true</td>\n",
       "      <td>Bank transfer (automatic)</td>\n",
       "      <td>81.00</td>\n",
       "      <td>4976.15</td>\n",
       "      <td>0.0</td>\n",
       "    </tr>\n",
       "    <tr>\n",
       "      <th>3</th>\n",
       "      <td>7215-nm9rD</td>\n",
       "      <td>1</td>\n",
       "      <td>Male</td>\n",
       "      <td>True</td>\n",
       "      <td>True</td>\n",
       "      <td>False</td>\n",
       "      <td>17</td>\n",
       "      <td>Yes</td>\n",
       "      <td>Yes</td>\n",
       "      <td>Fiber optic</td>\n",
       "      <td>No</td>\n",
       "      <td>No</td>\n",
       "      <td>Yes</td>\n",
       "      <td>No</td>\n",
       "      <td>Yes</td>\n",
       "      <td>Yes</td>\n",
       "      <td>Month-to-month</td>\n",
       "      <td>true</td>\n",
       "      <td>Credit card (automatic)</td>\n",
       "      <td>100.45</td>\n",
       "      <td>1622.45</td>\n",
       "      <td>1.0</td>\n",
       "    </tr>\n",
       "    <tr>\n",
       "      <th>4</th>\n",
       "      <td>2980-QXc1Q</td>\n",
       "      <td>1</td>\n",
       "      <td>Male</td>\n",
       "      <td>True</td>\n",
       "      <td>True</td>\n",
       "      <td>False</td>\n",
       "      <td>27</td>\n",
       "      <td>Yes</td>\n",
       "      <td>Yes</td>\n",
       "      <td>DSL</td>\n",
       "      <td>No</td>\n",
       "      <td>Yes</td>\n",
       "      <td>Yes</td>\n",
       "      <td>Yes</td>\n",
       "      <td>Yes</td>\n",
       "      <td>Yes</td>\n",
       "      <td>Month-to-month</td>\n",
       "      <td>true</td>\n",
       "      <td>Bank transfer (automatic)</td>\n",
       "      <td>84.80</td>\n",
       "      <td>2309.55</td>\n",
       "      <td>0.0</td>\n",
       "    </tr>\n",
       "  </tbody>\n",
       "</table>\n",
       "</div>"
      ],
      "text/plain": [
       "   CUSTOMERID  COUNT GENDER  SENIORCITIZEN  PARTNER  DEPENDENTS  TENUREMONTHS  \\\n",
       "0  5519-4QhR4      1   Male           True     True        True            71   \n",
       "1  6348-Ta3Yx      1   Male          False     True        True             5   \n",
       "2  9338-uZxDn      1   Male          False     True        True            61   \n",
       "3  7215-nm9rD      1   Male           True     True       False            17   \n",
       "4  2980-QXc1Q      1   Male           True     True       False            27   \n",
       "\n",
       "  PHONESERVICE MULTIPLELINES INTERNETSERVICE       ONLINESECURITY  \\\n",
       "0          Yes            No              No  No internet service   \n",
       "1          Yes           Yes              No  No internet service   \n",
       "2          Yes           Yes             DSL                   No   \n",
       "3          Yes           Yes     Fiber optic                   No   \n",
       "4          Yes           Yes             DSL                   No   \n",
       "\n",
       "          ONLINEBACKUP     DEVICEPROTECTION          TECHSUPPORT  \\\n",
       "0  No internet service  No internet service  No internet service   \n",
       "1  No internet service  No internet service  No internet service   \n",
       "2                   No                  Yes                  Yes   \n",
       "3                   No                  Yes                   No   \n",
       "4                  Yes                  Yes                  Yes   \n",
       "\n",
       "           STREAMINGTV      STREAMINGMOVIES        CONTRACT PAPERLESSBILLING  \\\n",
       "0  No internet service  No internet service        Two year            false   \n",
       "1  No internet service  No internet service  Month-to-month             true   \n",
       "2                  Yes                  Yes        Two year             true   \n",
       "3                  Yes                  Yes  Month-to-month             true   \n",
       "4                  Yes                  Yes  Month-to-month             true   \n",
       "\n",
       "               PAYMENTMETHOD  MONTHLYCHARGES  TOTALCHARGES  CHURNVALUE  \n",
       "0    Credit card (automatic)           19.80       1388.45         0.0  \n",
       "1  Bank transfer (automatic)           25.90        135.00         1.0  \n",
       "2  Bank transfer (automatic)           81.00       4976.15         0.0  \n",
       "3    Credit card (automatic)          100.45       1622.45         1.0  \n",
       "4  Bank transfer (automatic)           84.80       2309.55         0.0  "
      ]
     },
     "execution_count": 19,
     "metadata": {},
     "output_type": "execute_result"
    }
   ],
   "source": [
    "pd.pandas.set_option('display.max_columns', None)\n",
    "data.head()"
   ]
  },
  {
   "cell_type": "code",
   "execution_count": 20,
   "id": "90fb44cf",
   "metadata": {},
   "outputs": [],
   "source": [
    "session.close()"
   ]
  },
  {
   "cell_type": "code",
   "execution_count": null,
   "id": "0398aa75",
   "metadata": {},
   "outputs": [],
   "source": []
  }
 ],
 "metadata": {
  "kernelspec": {
   "display_name": "Python 3 (ipykernel)",
   "language": "python",
   "name": "python3"
  },
  "language_info": {
   "codemirror_mode": {
    "name": "ipython",
    "version": 3
   },
   "file_extension": ".py",
   "mimetype": "text/x-python",
   "name": "python",
   "nbconvert_exporter": "python",
   "pygments_lexer": "ipython3",
   "version": "3.8.16"
  }
 },
 "nbformat": 4,
 "nbformat_minor": 5
}
